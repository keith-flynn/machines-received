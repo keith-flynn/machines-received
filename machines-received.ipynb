{
 "cells": [
  {
   "cell_type": "markdown",
   "id": "a350090b",
   "metadata": {},
   "source": [
    "# Machines Received:\n",
    "### Automate purchase order data visualizations"
   ]
  },
  {
   "cell_type": "markdown",
   "id": "d64de4da",
   "metadata": {},
   "source": [
    "### Cost Cleaner:\n",
    "#### Establishing a cost basis upon which to reference our work.\n",
    "\n",
    "This information luckily exists, but is in a crowded format and needs a little preening to be of best use."
   ]
  },
  {
   "cell_type": "code",
   "execution_count": 1,
   "id": "3e555e6d",
   "metadata": {},
   "outputs": [],
   "source": [
    "import pandas as pd\n",
    "import re\n",
    "import matplotlib.pyplot as plt"
   ]
  },
  {
   "cell_type": "markdown",
   "id": "1d23d110",
   "metadata": {},
   "source": [
    "This function uses 're', or RegEx (Regular Expression)\n",
    "\n",
    "Though 're' needs to be imported, it is included in The Python Standard Library and does not need to be specifically installed using pip.\n",
    "\n",
    "The purpose of this function is to format our machine models in a way which excludes their designation as being \"in a receiving status\" within the workplace databases. These designations are assigned as a means of tracking each unique machine and therefore have no use to us in this capacity."
   ]
  },
  {
   "cell_type": "code",
   "execution_count": 2,
   "id": "dfee8f89",
   "metadata": {},
   "outputs": [],
   "source": [
    "# Function to remove \"REC-\" leading model names\n",
    "def rec_remover():\n",
    "    for elem in models_scan:\n",
    "        model = re.sub(r\"REC-\", \"\", elem)\n",
    "        count = data.SKU.value_counts()[elem]\n",
    "        models_list.append(model)\n",
    "        counts_list.append(count)\n",
    "        print(model, count)"
   ]
  },
  {
   "cell_type": "markdown",
   "id": "3f24d16c",
   "metadata": {},
   "source": [
    "Here we reference what state the existing CSV values are in, and import the CSV into a variable named \"cost_csv_raw\"."
   ]
  },
  {
   "cell_type": "code",
   "execution_count": 3,
   "id": "5ff5dc04",
   "metadata": {},
   "outputs": [
    {
     "name": "stdout",
     "output_type": "stream",
     "text": [
      "Unnamed: 0                                 float64\n",
      "Model SKU                                   object\n",
      "SKU Class                                   object\n",
      "Recent Stock Avergae Cost                  float64\n",
      "Recent Stock Quantity Eligible / Active     object\n",
      "All Stock Avergae Cost                     float64\n",
      "All Stock Quantity Eligible / Active        object\n",
      "Reminder Date                               object\n",
      "Reminder Notes                             float64\n",
      "Last Updated                                object\n",
      "Updated By                                  object\n",
      "Current Base Line Cost                     float64\n",
      "Base Line Cost                             float64\n",
      "Unnamed: 13                                float64\n",
      "dtype: object\n",
      "             Model SKU  Current Base Line Cost\n",
      "0              -M-I5DC                     0.0\n",
      "1              -U-8200                     0.0\n",
      "2              -U-I5QC                     0.0\n",
      "3              -U-I7QC                     0.0\n",
      "4    10G9000NUS-M-PENT                     0.0\n",
      "..                 ...                     ...\n",
      "411        Z210-U-I5QC                     0.0\n",
      "412        Z220-D-I7QC                     0.0\n",
      "413        Z230-D-I7QC                     0.0\n",
      "414        Z240-D-I5QC                    55.0\n",
      "415        Z400-T-XEQC                     0.0\n",
      "\n",
      "[416 rows x 2 columns]\n"
     ]
    }
   ],
   "source": [
    "# Check data types of columns\n",
    "print(pd.read_csv('assets/DT_export(baseline_model_cost).csv').dtypes)\n",
    "\n",
    "# Import csv (specific columns)\n",
    "cost_csv_raw = pd.read_csv('assets/DT_export(baseline_model_cost).csv', usecols=['Model SKU', 'Current Base Line Cost'])\n",
    "print(cost_csv_raw)"
   ]
  },
  {
   "cell_type": "markdown",
   "id": "850f7e7d",
   "metadata": {},
   "source": [
    "Upon looking over our initial data, two high-end outliers are removed and the dataframe is sorted high to low. Machines valued below a dollar are also removed as these are older model SKUs that have been marked for scrap."
   ]
  },
  {
   "cell_type": "code",
   "execution_count": 4,
   "id": "47c34feb",
   "metadata": {},
   "outputs": [
    {
     "name": "stdout",
     "output_type": "stream",
     "text": [
      "Model SKU                 Z400-T-XEQC\n",
      "Current Base Line Cost          509.0\n",
      "dtype: object\n",
      "          Model SKU  Current Base Line Cost\n",
      "9       3010-D-I5QC                    45.0\n",
      "11      3010-T-I5QC                    45.0\n",
      "12      3020-M-I5QC                    30.0\n",
      "13      3020-T-I5QC                    50.0\n",
      "16     3020M-M-I5QC                    30.0\n",
      "..              ...                     ...\n",
      "379  SLICEG1-M-I5QC                    56.0\n",
      "383   T510-U-EDENDC                    50.0\n",
      "397    T610-U-GT56N                    50.0\n",
      "399     T820-U-I5QC                    65.0\n",
      "414     Z240-D-I5QC                    55.0\n",
      "\n",
      "[185 rows x 2 columns]\n"
     ]
    }
   ],
   "source": [
    "# Find highest price\n",
    "# Later Addition: we now know the two highest are outliers. Adjusting trim range below to accomodate.\n",
    "print(cost_csv_raw.max())\n",
    "\n",
    "# Trim to range\n",
    "cost_adjusted_range = cost_csv_raw[cost_csv_raw['Current Base Line Cost'].between(1, 301)]\n",
    "print(cost_adjusted_range)\n",
    "\n",
    "# Sort by price high to low\n",
    "cost_sorted = cost_adjusted_range.sort_values(by='Current Base Line Cost', ascending=False)"
   ]
  },
  {
   "cell_type": "markdown",
   "id": "89537075",
   "metadata": {},
   "source": [
    "*This section was added much later into the program's progress, as the issue wasn't apparent until that later time.*\n",
    "\n",
    "**The processors in this list thus far are not as immediately compatable with future incoming data as I initially assumed. We need them to match perfectly in order to merge them in with our future dataframe.**\n",
    "\n",
    "Some background information is helpful in understanding: \n",
    "- Machines are received at face value; \n",
    "  - The model listed on the faceplate, as well as the VERY BASIC processor info from the sticker on the case.\n",
    "  - Examples: i3, i5, i7, Celeron, Core 2 Duo\n",
    "- The model cost information (in the imported CSV file) has more detailed information for each model;\n",
    "  - This information is gathered after receiving takes place.\n",
    "  - It is pulled directly from the motherboard to include some specific processor information.\n",
    "  - Examples: i3 Dual Core (I3DC), i5 Quad Core(I5QC), i7 Hexa/Six Core (I7HC/I7SC)\n",
    "  \n",
    "The mode of removal we used has inadvertently affected our AMD and C2D models. These specifically are repaired with additional code, and our cleaned reference information is saved as a separate csv."
   ]
  },
  {
   "cell_type": "code",
   "execution_count": 5,
   "id": "d7851082",
   "metadata": {},
   "outputs": [],
   "source": [
    "# Much later addition: After working on main body of project, more cleaning needed\n",
    "# Remove intel processor denominations after I3/I5/I7 (i.e. I3DC, I5QC, I7HC)\n",
    "# These are not recorded upon receiving causing merge mismatch between dataframes\n",
    "cost_sorted['Model SKU'] = cost_sorted['Model SKU'].str.strip('QCHSD')\n",
    "\n",
    "# Now to repair the AMD and Core 2 Duo processors stripped as collateral damage\n",
    "# Thouch these processors are rare we can still keep this data in working condition to potentially match receiving scans\n",
    "cost_sorted['Model SKU'] = cost_sorted['Model SKU'].str.replace('AM', 'AMD')\n",
    "cost_sorted['Model SKU'] = cost_sorted['Model SKU'].str.replace('C2', 'C2D')\n",
    "\n",
    "# Save to new csv for inspection\n",
    "cost_sorted.to_csv('assets/cost_clean.csv')"
   ]
  },
  {
   "cell_type": "markdown",
   "id": "2579a0e6",
   "metadata": {},
   "source": [
    "### Machines Received:\n",
    "#### Making sense of our Purchase Order data.\n",
    "\n",
    "After physically receiving machines at my day job, the data is recorded by default as 'DT_Export.csv' via a tool on the website of my workplace. We want this to be reproducable for any batch of machines received, so our method of manipulation works mainly with the columns themselves instead of the more specific information within. "
   ]
  },
  {
   "cell_type": "markdown",
   "id": "30b09713",
   "metadata": {},
   "source": [
    "We import our CSV with receiving data.\n",
    "\n",
    "**This file name can be changed to view other datasets from the \"assets\" folder.**\n",
    "\n",
    "Our data is then cleaned to discern each unique model type received."
   ]
  },
  {
   "cell_type": "code",
   "execution_count": 6,
   "id": "4453b732",
   "metadata": {},
   "outputs": [],
   "source": [
    "# import and save the SERIAL, SKU columns from csv\n",
    "data = pd.read_csv('assets/DT_export.csv', usecols=['SERIAL', 'SKU'])\n",
    "\n",
    "# create a list of the unique models in receiving format\n",
    "models_scan = []\n",
    "for i in data.SKU:\n",
    "    if i not in models_scan:\n",
    "        models_scan.append(i)"
   ]
  },
  {
   "cell_type": "markdown",
   "id": "4c938e80",
   "metadata": {},
   "source": [
    "We call the \"rec_remover\" function to better format our data.\n",
    "- Formatted model names are added to \"models_list\"\n",
    "- Total counts of each model are tabulated in \"counts_list\""
   ]
  },
  {
   "cell_type": "code",
   "execution_count": 7,
   "id": "d0140894",
   "metadata": {},
   "outputs": [
    {
     "name": "stdout",
     "output_type": "stream",
     "text": [
      "M710Q-M-I5 20\n",
      "M720Q-M-I5 10\n",
      "M73-M-I5 13\n",
      "M700-M-I5 43\n",
      "3070-M-I7 1\n",
      "5050-M-I5 1\n"
     ]
    }
   ],
   "source": [
    "# iterate through models list removing receiving format\n",
    "# and add total count\n",
    "counts_list = []\n",
    "models_list = []\n",
    "\n",
    "# Call function to remove \"REC-\" leading model names\n",
    "# Prints machine quantities to the terminal to be copied/pasted for a follow-up email to the boss\n",
    "rec_remover()"
   ]
  },
  {
   "cell_type": "markdown",
   "id": "c3917614",
   "metadata": {},
   "source": [
    "Information from our \"rec_remover\" function is added into a dataframe for our first visualization (declared as \"df\")"
   ]
  },
  {
   "cell_type": "code",
   "execution_count": 8,
   "id": "dd30cead",
   "metadata": {},
   "outputs": [],
   "source": [
    "# Pandas datafram from the counts/models lists\n",
    "df = pd.DataFrame(columns=['MODELS', 'COUNT'])\n",
    "df['MODELS'] = models_list\n",
    "df['COUNT'] = counts_list"
   ]
  },
  {
   "cell_type": "markdown",
   "id": "335d89cf",
   "metadata": {},
   "source": [
    "Our cleaned cost data from the first section of the program is now reintroduced as the variable \"cost\".\n",
    "\n",
    "The column \"Current Base Line Cost\" is renamed to \"COST\" for uniformity, syntax, and ease of use."
   ]
  },
  {
   "cell_type": "code",
   "execution_count": 9,
   "id": "ffd03d79",
   "metadata": {},
   "outputs": [
    {
     "name": "stdout",
     "output_type": "stream",
     "text": [
      "          MODELS   COST\n",
      "0      M70Q-M-I5  300.0\n",
      "1      M70Q-M-I5  300.0\n",
      "2      7060-M-I7  240.0\n",
      "3      7060-M-I7  240.0\n",
      "4     7060-M-I76  240.0\n",
      "..           ...    ...\n",
      "180  M600-M-PENT   15.0\n",
      "181     M600-M-P   15.0\n",
      "182   M600-M-CEL   15.0\n",
      "183   M58P-U-C2D   15.0\n",
      "184    960-T-C2D   14.0\n",
      "\n",
      "[185 rows x 2 columns]\n"
     ]
    }
   ],
   "source": [
    "# Bring in cost data\n",
    "cost = pd.read_csv('assets/cost_clean.csv', usecols=['Model SKU', 'Current Base Line Cost'])\n",
    "cost.rename(columns = {'Model SKU' : 'MODELS', 'Current Base Line Cost' : 'COST'}, inplace=True)\n",
    "print(cost)"
   ]
  },
  {
   "cell_type": "markdown",
   "id": "7cc66062",
   "metadata": {},
   "source": [
    "Any information in the \"cost\" dataframe that has a value corresponding with our received machines dataframe \"df\" is then merged in to form a new cost column."
   ]
  },
  {
   "cell_type": "code",
   "execution_count": 10,
   "id": "dad39b36",
   "metadata": {},
   "outputs": [
    {
     "name": "stdout",
     "output_type": "stream",
     "text": [
      "       MODELS  COUNT   COST\n",
      "0  M710Q-M-I5     20   65.0\n",
      "1  M720Q-M-I5     10  192.0\n",
      "2  M720Q-M-I5     10  160.0\n",
      "3  M720Q-M-I5     10  160.0\n",
      "4    M73-M-I5     13   25.0\n",
      "5    M73-M-I5     13   25.0\n",
      "6   M700-M-I5     43   55.0\n",
      "7   5050-M-I5      1  100.0\n"
     ]
    }
   ],
   "source": [
    "#df.join(cost)\n",
    "test_merge = pd.merge(df, cost)\n",
    "print(test_merge)"
   ]
  },
  {
   "cell_type": "markdown",
   "id": "f474c513",
   "metadata": {},
   "source": [
    "Here we group our rows by our model name for a uniform output.\n",
    "\n",
    "Multiple rows from the \"cost\" dataframe will correspond with our machine models. This is due to separate costs from our more detailed processor information.\n",
    "- For example, and i3 Quad Core will have a higher monetary value than an i3 Dual Core, but we previously removed this specification.\n",
    "- This leaves multiple merged values with different costs.\n",
    "\n",
    "To represent this, our cleaned costs will now be averaged in order to determine the mean cost. The values are then converted from floats to whole integers for a cleaner look."
   ]
  },
  {
   "cell_type": "code",
   "execution_count": 11,
   "id": "14d97a0f",
   "metadata": {},
   "outputs": [
    {
     "name": "stdout",
     "output_type": "stream",
     "text": [
      "       MODELS  COUNT  COST\n",
      "0   5050-M-I5      1   100\n",
      "1   M700-M-I5     43    55\n",
      "2  M710Q-M-I5     20    65\n",
      "3  M720Q-M-I5     10   170\n",
      "4    M73-M-I5     13    25\n"
     ]
    }
   ],
   "source": [
    "# Group machines by AVERAGE price of model if multiple costs exist\n",
    "avg_merge = test_merge.groupby(['MODELS'], as_index=False).mean()\n",
    "#avg_merge = test_merge.groupby(['MODELS', 'COUNT']).agg([np.average])\n",
    "# Now change float to int\n",
    "\n",
    "# Making these columns whole numbers\n",
    "avg_merge.COST = avg_merge.COST.astype(int)\n",
    "avg_merge.COUNT = avg_merge.COUNT.astype(int)\n",
    "print(avg_merge)"
   ]
  },
  {
   "cell_type": "markdown",
   "id": "6c1fae9f",
   "metadata": {},
   "source": [
    "This particular purchase order presented us with a unique challenge/opportunity.\n",
    "\n",
    "This was our company's first time receiving a Dell 3070 i7 in a mini form factor. Therefore this machine has no prior cost basis to draw upon. This (albeit unique) occurance has the potential to skew future visualizations.\n",
    "- We will account for this with a simple if/else statement.\n",
    "  - If NaN appears in any of the rows of our newly created cost column, we have a new cost that does not exist in our \"cost\" dataframe.\n",
    "  - If not, then business as usual.\n",
    "- It also blesses us with the opportunity for *just a smidgen* of ASCII art.\n",
    "- Finding machines with no cost basis is the exception rather than the rule.\n",
    "  - The business typically purchases machines with which they have existing SKUs.\n",
    "  - This streamlines sales listings on many separate e-commerce marketplaces.\n",
    "  \n",
    "**Abrasive asterisks will alert us to machines with an unaccounted cost basis, whereas soothing tildes will reassure us that all costs have been reconciled.**"
   ]
  },
  {
   "cell_type": "code",
   "execution_count": 12,
   "id": "3ff50446",
   "metadata": {},
   "outputs": [
    {
     "name": "stdout",
     "output_type": "stream",
     "text": [
      "****************************************\n",
      "*  Machines with no cost basis (NaN):  *\n",
      "****************************************\n",
      "      MODELS  COUNT  COST\n",
      "7  3070-M-I7      1   NaN\n"
     ]
    }
   ],
   "source": [
    "# 3070 mini i7 model doesn't have a base cost yet. \n",
    "# It doesn't meet merge criteria and will be discarded when dataframes merge\n",
    "# Need to account for this with notification\n",
    "no_price = pd.merge(df, cost, how='left', indicator=False)\n",
    "\n",
    "# Check for any machines with a NaN value in no_price dataframe\n",
    "if no_price.COST.isnull().values.any():\n",
    "    print(\"****************************************\")\n",
    "    print(\"*  Machines with no cost basis (NaN):  *\")\n",
    "    print(\"****************************************\")\n",
    "    print(no_price[no_price['COST'].isna()])\n",
    "else :\n",
    "    print(\"~~~~~~~~~~~~~~~~~~~~~~~~~~~~~~~~~~~~~~~~~~~~~~~~~~~~~\")\n",
    "    print(\"~  All machines received have existing cost basis.  ~\")\n",
    "    print(\"~~~~~~~~~~~~~~~~~~~~~~~~~~~~~~~~~~~~~~~~~~~~~~~~~~~~~\")"
   ]
  },
  {
   "cell_type": "markdown",
   "id": "ce50caed",
   "metadata": {},
   "source": [
    "Here we begin to create a new dataframe (\"cost_vis\") with additional columns for our second visualization.\n",
    "\n",
    "*At this point I felt that my grasp on lambdas was insufficient, yet they seemed to be the simples solution to creating the columns that we need. I compensated by taking a trip to youtube which was rewarding as evidenced in our code.*\n",
    "\n",
    "We want to determine the total cost for each machine type purchased, so we multiply the total number by their averaged cost. This provides us with an estimated total purchase order cost (\"total_cost\").\n",
    "\n",
    "After this we create another column to serve as a percentage value of the total purchase order cost.\n",
    "\n",
    "Finally we sum the total percentages just to verify that they account for 100% of the purchase order price."
   ]
  },
  {
   "cell_type": "code",
   "execution_count": 13,
   "id": "1590f4c5",
   "metadata": {},
   "outputs": [
    {
     "name": "stdout",
     "output_type": "stream",
     "text": [
      "       MODELS  COUNT  COST  TOTAL\n",
      "0   5050-M-I5      1   100    100\n",
      "1   M700-M-I5     43    55   2365\n",
      "2  M710Q-M-I5     20    65   1300\n",
      "3  M720Q-M-I5     10   170   1700\n",
      "4    M73-M-I5     13    25    325\n",
      "Estimated total PO cost: $5790\n",
      "       MODELS  COUNT  COST  TOTAL   TOTALPCT\n",
      "0   5050-M-I5      1   100    100   1.727116\n",
      "1   M700-M-I5     43    55   2365  40.846287\n",
      "2  M710Q-M-I5     20    65   1300  22.452504\n",
      "3  M720Q-M-I5     10   170   1700  29.360967\n",
      "4    M73-M-I5     13    25    325   5.613126\n",
      "100.0\n"
     ]
    }
   ],
   "source": [
    "# New cost of PO df to make a visualization with lambda fun\n",
    "cost_vis = avg_merge\n",
    "cost_vis['TOTAL'] = cost_vis.apply(lambda x: x['COUNT'] * x['COST'], axis=1)\n",
    "print(cost_vis)\n",
    "total_cost = str(cost_vis['TOTAL'].sum())\n",
    "print(\"Estimated total PO cost: $\" + total_cost)\n",
    "# Make a percentage column for cost_vis df. Each item in total column / total of whole column * 100 to play nice with charting\n",
    "cost_vis['TOTALPCT'] = cost_vis.apply(lambda x: (x['TOTAL'] / cost_vis['TOTAL'].sum()) * 100, axis=1)\n",
    "print(cost_vis)\n",
    "# Making sure these percentages add up to 100\n",
    "print(cost_vis['TOTALPCT'].sum())\n"
   ]
  },
  {
   "cell_type": "markdown",
   "id": "f2ab6c3f",
   "metadata": {},
   "source": [
    "### Visualizations"
   ]
  },
  {
   "cell_type": "markdown",
   "id": "ee57b514",
   "metadata": {},
   "source": [
    "First we will create a bar graph which visualizes the total number of each machine received by model type.\n",
    "\n",
    "I am a fan of the dark_background style sheet both aesthetically, as well as from being a (fervent) dark mode user.\n",
    "\n",
    "Tilting the xticks 45 degrees improves readability."
   ]
  },
  {
   "cell_type": "code",
   "execution_count": 14,
   "id": "f9e93add",
   "metadata": {},
   "outputs": [
    {
     "data": {
      "image/png": "[encoded data removed]",
      "text/plain": [
       "<Figure size 800x560 with 1 Axes>"
      ]
     },
     "metadata": {},
     "output_type": "display_data"
    }
   ],
   "source": [
    "# visuals\n",
    "plt.style.use('dark_background')\n",
    "df_sorted = df.sort_values(by='COUNT', ascending=False)\n",
    "plt.figure(figsize=(10,7), dpi=80)\n",
    "plt.bar(df_sorted.MODELS, df_sorted.COUNT)\n",
    "plt.xticks(rotation=45, fontsize=10)\n",
    "plt.title('Machines Received')\n",
    "plt.tight_layout()\n",
    "plt.show()"
   ]
  },
  {
   "cell_type": "markdown",
   "id": "bcfed8e7",
   "metadata": {},
   "source": [
    "The second visualization will be a pie chart representing a cost percentage of each of the total machines by type.\n",
    "\n",
    "Arbitrarily I am \"exploding\" the second largest wedge of each graph. I am aware that this is typically done to add emphasis to the exploded wedge, but I was drawn to the challenge of making each pie chart look like pac-man. (Under reproducable conditions across separate source CSVs.)\n",
    "\n",
    "The text on the interior of the pie chart is then changed to black for readability."
   ]
  },
  {
   "cell_type": "code",
   "execution_count": 15,
   "id": "304724a6",
   "metadata": {},
   "outputs": [
    {
     "data": {
      "image/png": "[encoded data removed]",
      "text/plain": [
       "<Figure size 720x504 with 1 Axes>"
      ]
     },
     "metadata": {},
     "output_type": "display_data"
    }
   ],
   "source": [
    "sorted_cost_vis = cost_vis.sort_values(by='TOTALPCT', ascending=False)\n",
    "labels = sorted_cost_vis['MODELS']\n",
    "sizes = sorted_cost_vis['TOTALPCT']\n",
    "\n",
    "# Explode second largest wedge:\n",
    "# A loop to create a tuple that serves as the (pie chart wedge) explode function data\n",
    "# I realize an exploded wedge is meant to emphasize something,\n",
    "# but I simply like how it looks like pac-man every time and I wanted to make this feature scalable across datasets\n",
    "myexplode = ()\n",
    "for i in sorted_cost_vis['TOTALPCT']:\n",
    "    if len(myexplode) == 1:\n",
    "        myexplode = myexplode + (0.2,)\n",
    "    else:\n",
    "        myexplode = myexplode + (0,)\n",
    "\n",
    "\n",
    "fig1, ax1, = plt.subplots(figsize=(10,7))\n",
    "# I don't really understand the _, but it's needed to change the autotext color\n",
    "_, _, autotexts = ax1.pie(sizes, labels = labels, explode = myexplode, shadow=True, autopct='%1.1f%%', startangle=45)\n",
    "# Make inner text more readable\n",
    "for autotext in autotexts:\n",
    "    autotext.set_color('black')\n",
    "\n",
    "\n",
    "plt.suptitle('PO Cost Allocation')\n",
    "plt.title('Estimated Price: $' + total_cost)\n",
    "ax1.axis('equal')\n",
    "plt.show()\n"
   ]
  },
  {
   "cell_type": "code",
   "execution_count": null,
   "id": "53d6f1e0",
   "metadata": {},
   "outputs": [],
   "source": []
  }
 ],
 "metadata": {
  "kernelspec": {
   "display_name": "Python 3 (ipykernel)",
   "language": "python",
   "name": "python3"
  },
  "language_info": {
   "codemirror_mode": {
    "name": "ipython",
    "version": 3
   },
   "file_extension": ".py",
   "mimetype": "text/x-python",
   "name": "python",
   "nbconvert_exporter": "python",
   "pygments_lexer": "ipython3",
   "version": "3.9.12"
  }
 },
 "nbformat": 4,
 "nbformat_minor": 5
}
